{
 "cells": [
  {
   "cell_type": "code",
   "execution_count": 1,
   "metadata": {
    "collapsed": true
   },
   "outputs": [],
   "source": [
    "# -*- coding: UTF-8 -*-\n",
    "import time\n",
    "import pandas as pd\n",
    "import pickle\n",
    "import os\n",
    "from datetime import datetime,timedelta\n",
    "from sklearn.ensemble import GradientBoostingClassifier\n",
    "import random\n",
    "import xgboost as xgb\n",
    "import numpy as np\n",
    "from sklearn.model_selection import train_test_split\n",
    "from operator import itemgetter\n",
    "import operator\n",
    "from sklearn.model_selection import KFold\n",
    "import scipy as sp\n",
    "import gc\n",
    "import lightgbm as lgb\n",
    "from collections import Counter\n",
    "from collections import defaultdict"
   ]
  },
  {
   "cell_type": "code",
   "execution_count": 2,
   "metadata": {
    "collapsed": true
   },
   "outputs": [],
   "source": [
    "traindata = pd.read_csv('train1901.csv')\n",
    "testdata = pd.read_csv('test1901.csv')"
   ]
  },
  {
   "cell_type": "code",
   "execution_count": 3,
   "metadata": {
    "collapsed": true
   },
   "outputs": [],
   "source": [
    "td = traindata.sort_values(by=['click_time'])"
   ]
  },
  {
   "cell_type": "code",
   "execution_count": 20,
   "metadata": {
    "collapsed": true
   },
   "outputs": [],
   "source": [
    "ted = testdata.sort_values(by=['click_time'])"
   ]
  },
  {
   "cell_type": "code",
   "execution_count": 13,
   "metadata": {
    "collapsed": true
   },
   "outputs": [],
   "source": [
    "num1 = defaultdict(int)\n",
    "num2 = defaultdict(int)\n",
    "\n",
    "#fun1 = lambda x: num1[x[1]] += 1 if (x[0]-(x[0]%10000) == 290000) else num2[x[1]] += 1\n",
    "\n",
    "def fun1(x):\n",
    "    if (x[0]-(x[0]%10000) == 290000):\n",
    "        num1[x[1]] += 1\n",
    "        return num1[x[1]]\n",
    "    else:\n",
    "        num2[x[1]] += 1\n",
    "        return num2[x[1]]\n",
    "\n",
    "td['leak_user_num'] = td[['click_time', 'user_id']].apply(fun1, axis = 1)\n",
    "\n",
    "fun2 = lambda x: num1[x[1]] if (x[0]-(x[0]%10000) == 290000) else num2[x[1]]\n",
    "\n",
    "td['leak_user_all'] = td[['click_time', 'user_id']].apply(fun2, axis = 1)"
   ]
  },
  {
   "cell_type": "code",
   "execution_count": 22,
   "metadata": {
    "collapsed": true
   },
   "outputs": [],
   "source": [
    "num1 = defaultdict(int)\n",
    "num2 = defaultdict(int)\n",
    "\n",
    "#fun1 = lambda x: num1[x[1]] += 1 if (x[0]-(x[0]%10000) == 290000) else num2[x[1]] += 1\n",
    "\n",
    "def fun1(x):\n",
    "    if (x[0]-(x[0]%10000) == 290000):\n",
    "        num1[x[1]] += 1\n",
    "        return num1[x[1]]\n",
    "    else:\n",
    "        num2[x[1]] += 1\n",
    "        return num2[x[1]]\n",
    "\n",
    "ted['leak_user_num'] = ted[['click_time', 'user_id']].apply(fun1, axis = 1)\n",
    "\n",
    "fun2 = lambda x: num1[x[1]] if (x[0]-(x[0]%10000) == 290000) else num2[x[1]]\n",
    "\n",
    "ted['leak_user_all'] = ted[['click_time', 'user_id']].apply(fun2, axis = 1)"
   ]
  },
  {
   "cell_type": "code",
   "execution_count": 15,
   "metadata": {
    "collapsed": true
   },
   "outputs": [],
   "source": [
    "# num3 = defaultdict(int)\n",
    "\n",
    "# def fun11(x):\n",
    "#     if (num3[x[1]] == 0):\n",
    "#         num3[x[1]] == x[0]\n",
    "#         return 0\n",
    "#     else:\n",
    "#         ans = x[0] - num3[x[1]]\n",
    "#         num3[x[1]] = x[0]\n",
    "#         return ans\n",
    "\n",
    "# td['timemlus'] = td[['click_time', 'user_id']].apply(fun11, axis = 1)\n"
   ]
  },
  {
   "cell_type": "code",
   "execution_count": 6,
   "metadata": {},
   "outputs": [
    {
     "name": "stdout",
     "output_type": "stream",
     "text": [
      "290000\n",
      "302359\n"
     ]
    }
   ],
   "source": [
    "print min(traindata['click_time'])\n",
    "print max(traindata['click_time'])"
   ]
  },
  {
   "cell_type": "code",
   "execution_count": 12,
   "metadata": {
    "collapsed": true
   },
   "outputs": [],
   "source": [
    "cu = traindata[['click_time', 'user_id']]"
   ]
  },
  {
   "cell_type": "code",
   "execution_count": 23,
   "metadata": {},
   "outputs": [
    {
     "name": "stdout",
     "output_type": "stream",
     "text": [
      "Index([u'instand_id', u'label', u'click_time', u'ad_id', u'user_id',\n",
      "       u'position_id', u'conn_type', u'miui_version', u'ip',\n",
      "       u'android_version', u'age', u'gender', u'education', u'province',\n",
      "       u'city', u'device_info', u'app_list', u'advertiser_id', u'compaign_id',\n",
      "       u'app_id', u'app_description', u'app_category1', u'app_category2',\n",
      "       u'shopping', u'time', u'app_dl', u'ad_num', u'app_num', u'ad_cnum',\n",
      "       u'app_cnum', u'ad_crate', u'app_crate', u'click_day', u'advertiser_num',\n",
      "       u'compaign_num', u'advertiser_cnum', u'compaign_cnum',\n",
      "       u'advertiser_crate', u'compaign_crate', u'leak_user_num',\n",
      "       u'leak_user_all'],\n",
      "      dtype='object')\n",
      "Index([u'instand_id', u'label', u'click_time', u'ad_id', u'user_id',\n",
      "       u'position_id', u'conn_type', u'miui_version', u'ip',\n",
      "       u'android_version', u'age', u'gender', u'education', u'province',\n",
      "       u'city', u'device_info', u'app_list', u'advertiser_id', u'compaign_id',\n",
      "       u'app_id', u'app_description', u'app_category1', u'app_category2',\n",
      "       u'shopping', u'time', u'app_dl', u'ad_num', u'app_num', u'ad_cnum',\n",
      "       u'app_cnum', u'ad_crate', u'app_crate', u'click_day', u'advertiser_num',\n",
      "       u'compaign_num', u'advertiser_cnum', u'compaign_cnum',\n",
      "       u'advertiser_crate', u'compaign_crate', u'leak_user_num',\n",
      "       u'leak_user_all'],\n",
      "      dtype='object')\n"
     ]
    }
   ],
   "source": [
    "print td.columns\n",
    "print ted.columns"
   ]
  },
  {
   "cell_type": "code",
   "execution_count": 24,
   "metadata": {
    "collapsed": true
   },
   "outputs": [],
   "source": [
    "td.to_csv('train2001.csv', index = False)\n",
    "ted.to_csv('test2001.csv', index = False)"
   ]
  },
  {
   "cell_type": "code",
   "execution_count": null,
   "metadata": {
    "collapsed": true
   },
   "outputs": [],
   "source": []
  }
 ],
 "metadata": {
  "kernelspec": {
   "display_name": "Python 2",
   "language": "python",
   "name": "python2"
  },
  "language_info": {
   "codemirror_mode": {
    "name": "ipython",
    "version": 2
   },
   "file_extension": ".py",
   "mimetype": "text/x-python",
   "name": "python",
   "nbconvert_exporter": "python",
   "pygments_lexer": "ipython2",
   "version": "2.7.5"
  }
 },
 "nbformat": 4,
 "nbformat_minor": 2
}

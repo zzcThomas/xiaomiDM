{
 "cells": [
  {
   "cell_type": "code",
   "execution_count": 2,
   "metadata": {
    "collapsed": true
   },
   "outputs": [],
   "source": [
    "# -*- coding: UTF-8 -*-\n",
    "import time\n",
    "import pandas as pd\n",
    "import pickle\n",
    "import os\n",
    "from datetime import datetime,timedelta\n",
    "from sklearn.ensemble import GradientBoostingClassifier\n",
    "import random\n",
    "import xgboost as xgb\n",
    "import numpy as np\n",
    "from sklearn.model_selection import train_test_split\n",
    "from operator import itemgetter\n",
    "import operator\n",
    "from sklearn.model_selection import KFold\n",
    "import scipy as sp\n",
    "import gc\n",
    "import lightgbm as lgb\n",
    "from collections import Counter"
   ]
  },
  {
   "cell_type": "code",
   "execution_count": null,
   "metadata": {},
   "outputs": [],
   "source": [
    "# train1129 = pd.read_csv('traindata11-29.csv')\n",
    "# train1131 = pd.read_csv('testdata11-31.csv')\n",
    "train1129 = pd.read_csv('trainclean11-29.csv')\n",
    "train1131 = pd.read_csv('trainclean11-31.csv')\n",
    "print len(train1129)\n",
    "print len(train1131)"
   ]
  },
  {
   "cell_type": "code",
   "execution_count": 4,
   "metadata": {},
   "outputs": [
    {
     "name": "stdout",
     "output_type": "stream",
     "text": [
      "Index([u'Unnamed: 0', u'instand_id', u'label', u'click_time', u'ad_id',\n",
      "       u'user_id', u'position_id', u'conn_type', u'miui_version', u'ip',\n",
      "       u'android_version', u'age', u'gender', u'education', u'province',\n",
      "       u'city', u'device_info', u'app_list', u'advertiser_id', u'compaign_id',\n",
      "       u'app_id', u'app_description', u'app_category1', u'app_category2',\n",
      "       u'shopping', u'time'],\n",
      "      dtype='object')\n"
     ]
    }
   ],
   "source": [
    "print train1129.columns"
   ]
  },
  {
   "cell_type": "code",
   "execution_count": 5,
   "metadata": {
    "collapsed": true
   },
   "outputs": [],
   "source": [
    "# t1131 = train1131.drop_duplicates(['label', 'click_time', 'ad_id', 'user_id',\n",
    "#        'position_id', 'conn_type', 'miui_version', 'ip',\n",
    "#        'android_version', 'age', 'gender', 'education', 'province',\n",
    "#        'city', 'device_info', 'app_list', 'advertiser_id', 'compaign_id',\n",
    "#        'app_id', 'app_description', 'app_category1', 'app_category2',\n",
    "#        'shopping'])"
   ]
  },
  {
   "cell_type": "code",
   "execution_count": 6,
   "metadata": {},
   "outputs": [
    {
     "name": "stdout",
     "output_type": "stream",
     "text": [
      "1788809\n",
      "2163130\n"
     ]
    }
   ],
   "source": [
    "train_data = pd.read_csv('traindata171.csv')\n",
    "test_data = pd.read_csv('testdata17.csv')\n",
    "print len(train_data)\n",
    "print len(test_data)"
   ]
  },
  {
   "cell_type": "code",
   "execution_count": 7,
   "metadata": {},
   "outputs": [
    {
     "name": "stdout",
     "output_type": "stream",
     "text": [
      "Index([u'instand_id', u'label', u'click_time', u'ad_id', u'user_id',\n",
      "       u'position_id', u'conn_type', u'miui_version', u'ip',\n",
      "       u'android_version', u'age', u'gender', u'education', u'province',\n",
      "       u'city', u'device_info', u'app_list', u'advertiser_id', u'compaign_id',\n",
      "       u'app_id', u'app_description', u'app_category1', u'app_category2',\n",
      "       u'shopping', u'time'],\n",
      "      dtype='object')\n"
     ]
    }
   ],
   "source": [
    "print train_data.columns"
   ]
  },
  {
   "cell_type": "code",
   "execution_count": 8,
   "metadata": {
    "collapsed": true
   },
   "outputs": [],
   "source": [
    "#统计app下载量\n",
    "m = []\n",
    "for i in train1129['app_list']:\n",
    "    if (i == '-2'):\n",
    "        continue\n",
    "    str1 = i.split(',')\n",
    "    m += str1\n",
    "\n",
    "app_dl_1129 = Counter(m)\n",
    "\n",
    "m2 = []\n",
    "for i in train1131['app_list']:\n",
    "    if (i == '-2'):\n",
    "        continue\n",
    "    str1 = i.split(',')\n",
    "    m2 += str1\n",
    "\n",
    "app_dl_1131 = Counter(m2)\n",
    "\n",
    "fun1 = lambda x: app_dl_1129[x[0]]\n",
    "fun2 = lambda x: app_dl_1131[x[0]]\n",
    "\n",
    "train_data['app_dl'] = train_data[['app_id']].apply(fun1, axis = 1)\n",
    "test_data['app_dl'] = test_data[['app_id']].apply(fun2, axis = 1)"
   ]
  },
  {
   "cell_type": "code",
   "execution_count": 9,
   "metadata": {
    "collapsed": true
   },
   "outputs": [],
   "source": [
    "#统计广告点击量\n",
    "ad_num1 = Counter(train1129['ad_id'])\n",
    "ad_num2 = Counter(train1131['ad_id'])\n",
    "\n",
    "fun1 = lambda x: ad_num1[x[0]]\n",
    "fun2 = lambda x: ad_num2[x[0]]\n",
    "\n",
    "train_data['ad_num'] = train_data[['ad_id']].apply(fun1, axis = 1)\n",
    "test_data['ad_num'] = test_data[['ad_id']].apply(fun2, axis = 1)"
   ]
  },
  {
   "cell_type": "code",
   "execution_count": 10,
   "metadata": {
    "collapsed": true
   },
   "outputs": [],
   "source": [
    "#统计app点击量\n",
    "app_num1 = Counter(train1129['app_id'])\n",
    "app_num2 = Counter(train1131['app_id'])\n",
    "\n",
    "fun1 = lambda x: app_num1[x[0]]\n",
    "fun2 = lambda x: app_num2[x[0]]\n",
    "\n",
    "train_data['app_num'] = train_data[['app_id']].apply(fun1, axis = 1)\n",
    "test_data['app_num'] = test_data[['app_id']].apply(fun2, axis = 1)"
   ]
  },
  {
   "cell_type": "code",
   "execution_count": 7,
   "metadata": {
    "collapsed": true
   },
   "outputs": [],
   "source": [
    "# #T统计购物次数\n",
    "# fun2 = lambda x: len(x[0]) if (x[0] != -1) else 0\n",
    "# test_data['shopping_num'] = test_data[['shopping']].apply(fun2, axis = 1)\n",
    "# train_data['shopping_num'] = train_data[['shopping']].apply(fun2, axis = 1)"
   ]
  },
  {
   "cell_type": "code",
   "execution_count": 11,
   "metadata": {
    "collapsed": true
   },
   "outputs": [],
   "source": [
    "#统计广告转化量\n",
    "train_label1 = train1129[train1129.label == 1]\n",
    "test_label1 = train1131[train1131.label == 1]\n",
    "\n",
    "ad_cnum1 = Counter(train_label1['ad_id'])\n",
    "ad_cnum2 = Counter(test_label1['ad_id'])\n",
    "\n",
    "fun1 = lambda x: ad_cnum1[x[0]] \n",
    "fun2 = lambda x: ad_cnum2[x[0]] \n",
    "\n",
    "train_data['ad_cnum'] = train_data[['ad_id']].apply(fun1, axis = 1)\n",
    "test_data['ad_cnum'] = test_data[['ad_id']].apply(fun2, axis = 1)"
   ]
  },
  {
   "cell_type": "code",
   "execution_count": 12,
   "metadata": {
    "collapsed": true
   },
   "outputs": [],
   "source": [
    "#统计app转化量\n",
    "# train11291 = train1129[train1129.label == 1]\n",
    "# test11291 = train1131[train1131.label == 1]\n",
    "\n",
    "app_cnum1 = Counter(train_label1['app_id'])\n",
    "app_cnum2 = Counter(test_label1['app_id'])\n",
    "\n",
    "fun1 = lambda x: app_cnum1[x[0]] \n",
    "fun2 = lambda x: app_cnum2[x[0]] \n",
    "\n",
    "train_data['app_cnum'] = train_data[['app_id']].apply(fun1, axis = 1)\n",
    "test_data['app_cnum'] = test_data[['app_id']].apply(fun2, axis = 1)"
   ]
  },
  {
   "cell_type": "code",
   "execution_count": 13,
   "metadata": {
    "collapsed": true
   },
   "outputs": [],
   "source": [
    "#统计广告转换率\n",
    "fun1 = lambda x: ad_cnum1[x[0]]*1.0 / ad_num1[x[0]]*1.0 if (ad_num1[x[0]] != 0) else -1\n",
    "fun2 = lambda x: ad_cnum2[x[0]]*1.0 / ad_num2[x[0]]*1.0 if (ad_num2[x[0]] != 0) else -1\n",
    "\n",
    "train_data['ad_crate'] = train_data[['ad_id']].apply(fun1, axis = 1)\n",
    "test_data['ad_crate'] = test_data[['ad_id']].apply(fun2, axis = 1)"
   ]
  },
  {
   "cell_type": "code",
   "execution_count": 14,
   "metadata": {
    "collapsed": true
   },
   "outputs": [],
   "source": [
    "#统计app转换率\n",
    "fun1 = lambda x: app_cnum1[x[0]]*1.0 / app_num1[x[0]]*1.0 if (app_num1[x[0]] != 0) else -1\n",
    "fun2 = lambda x: app_cnum2[x[0]]*1.0 / app_num2[x[0]]*1.0 if (app_num2[x[0]] != 0) else -1\n",
    "\n",
    "train_data['app_crate'] = train_data[['app_id']].apply(fun1, axis = 1)\n",
    "test_data['app_crate'] = test_data[['app_id']].apply(fun2, axis = 1)"
   ]
  },
  {
   "cell_type": "code",
   "execution_count": 15,
   "metadata": {
    "collapsed": true
   },
   "outputs": [],
   "source": [
    "#获取点击的小时\n",
    "fun3 = lambda x: (((x[0]%10000) - ((x[0]%10000)%100))/100 + (x[0]%10000)%100)*1.0 / 60*1.0\n",
    "test_data['click_day'] = test_data[['click_time']].apply(fun3, axis = 1)\n",
    "train_data['click_day'] = train_data[['click_time']].apply(fun3, axis = 1)"
   ]
  },
  {
   "cell_type": "code",
   "execution_count": 16,
   "metadata": {
    "collapsed": true
   },
   "outputs": [],
   "source": [
    "#获取广告账户点击量\n",
    "advertiser_num1 = Counter(train1129['advertiser_id'])\n",
    "advertiser_num2 = Counter(train1131['advertiser_id'])\n",
    "\n",
    "fun1 = lambda x: advertiser_num1[x[0]]\n",
    "fun2 = lambda x: advertiser_num2[x[0]]\n",
    "\n",
    "train_data['advertiser_num'] = train_data[['advertiser_id']].apply(fun1, axis = 1)\n",
    "test_data['advertiser_num'] = test_data[['advertiser_id']].apply(fun2, axis = 1)"
   ]
  },
  {
   "cell_type": "code",
   "execution_count": 17,
   "metadata": {
    "collapsed": true
   },
   "outputs": [],
   "source": [
    "#获取推广ID点击量\n",
    "compaign_num1 = Counter(train1129['compaign_id'])\n",
    "compaign_num2 = Counter(train1131['compaign_id'])\n",
    "\n",
    "fun1 = lambda x: compaign_num1[x[0]]\n",
    "fun2 = lambda x: compaign_num2[x[0]]\n",
    "\n",
    "train_data['compaign_num'] = train_data[['compaign_id']].apply(fun1, axis = 1)\n",
    "test_data['compaign_num'] = test_data[['compaign_id']].apply(fun2, axis = 1)"
   ]
  },
  {
   "cell_type": "code",
   "execution_count": 18,
   "metadata": {
    "collapsed": true
   },
   "outputs": [],
   "source": [
    "#获取广告账户转化量\n",
    "advertiser_cnum1 = Counter(train_label1['advertiser_id'])\n",
    "advertiser_cnum2 = Counter(test_label1['advertiser_id'])\n",
    "\n",
    "fun1 = lambda x: advertiser_cnum1[x[0]] \n",
    "fun2 = lambda x: advertiser_cnum2[x[0]] \n",
    "\n",
    "train_data['advertiser_cnum'] = train_data[['advertiser_id']].apply(fun1, axis = 1)\n",
    "test_data['advertiser_cnum'] = test_data[['advertiser_id']].apply(fun2, axis = 1)"
   ]
  },
  {
   "cell_type": "code",
   "execution_count": 19,
   "metadata": {
    "collapsed": true
   },
   "outputs": [],
   "source": [
    "#获取推广ID转化量\n",
    "compaign_cnum1 = Counter(train_label1['compaign_id'])\n",
    "compaign_cnum2 = Counter(test_label1['compaign_id'])\n",
    "\n",
    "fun1 = lambda x: compaign_cnum1[x[0]] \n",
    "fun2 = lambda x: compaign_cnum2[x[0]] \n",
    "\n",
    "train_data['compaign_cnum'] = train_data[['compaign_id']].apply(fun1, axis = 1)\n",
    "test_data['compaign_cnum'] = test_data[['compaign_id']].apply(fun2, axis = 1)"
   ]
  },
  {
   "cell_type": "code",
   "execution_count": 20,
   "metadata": {
    "collapsed": true
   },
   "outputs": [],
   "source": [
    "#获取广告账户转换率\n",
    "fun1 = lambda x: advertiser_cnum1[x[0]]*1.0 / advertiser_num1[x[0]]*1.0 if (advertiser_num1[x[0]] != 0) else -1\n",
    "fun2 = lambda x: advertiser_cnum2[x[0]]*1.0 / advertiser_num2[x[0]]*1.0 if (advertiser_num2[x[0]] != 0) else -1\n",
    "\n",
    "train_data['advertiser_crate'] = train_data[['advertiser_id']].apply(fun1, axis = 1)\n",
    "test_data['advertiser_crate'] = test_data[['advertiser_id']].apply(fun2, axis = 1)"
   ]
  },
  {
   "cell_type": "code",
   "execution_count": 21,
   "metadata": {
    "collapsed": true
   },
   "outputs": [],
   "source": [
    "#获取推广ID转换率\n",
    "fun1 = lambda x: compaign_cnum1[x[0]]*1.0 / compaign_num1[x[0]]*1.0 if (compaign_num1[x[0]] != 0) else -1\n",
    "fun2 = lambda x: compaign_cnum2[x[0]]*1.0 / compaign_num2[x[0]]*1.0 if (compaign_num2[x[0]] != 0) else -1\n",
    "\n",
    "train_data['compaign_crate'] = train_data[['compaign_id']].apply(fun1, axis = 1)\n",
    "test_data['compaign_crate'] = test_data[['compaign_id']].apply(fun2, axis = 1)"
   ]
  },
  {
   "cell_type": "code",
   "execution_count": 22,
   "metadata": {},
   "outputs": [
    {
     "name": "stdout",
     "output_type": "stream",
     "text": [
      "         instand_id  label  click_time   ad_id   user_id  position_id  \\\n",
      "0         290000001      0      291116   13744   6265843            2   \n",
      "1         290000002      0      290651  110136   4508115            2   \n",
      "2         290000003      0      291157   92285   8550042            2   \n",
      "3         290000004      0      291359  105747   7863525            2   \n",
      "4         290000005      0      292101   12410   9174336            2   \n",
      "5         290000006      0      291705   92285   9430429            2   \n",
      "6         290000007      0      292117   12410   1326095            2   \n",
      "7         290000008      0      291252   14499   1817972            2   \n",
      "8         290000009      1      291929   84510   5337930            2   \n",
      "9         290000010      0      291702   53251   7474903            2   \n",
      "10        290000011      0      291225    8524   9248009            2   \n",
      "11        290000012      0      291006   11368  11074431            2   \n",
      "12        290000013      0      290308   70192   7805597            2   \n",
      "13        290000014      0      291800   23356   9182813            2   \n",
      "14        290000015      0      292151   65620  10885010            2   \n",
      "15        290000016      0      290339   96827    892080            2   \n",
      "16        290000017      0      291021   12410   7737236            0   \n",
      "17        290000018      0      291403   74325   4962894            2   \n",
      "18        290000019      0      291221   74972   1595572            2   \n",
      "19        290000020      1      291211   11033   3327191            2   \n",
      "20        290000021      0      291941   17812   5955572            1   \n",
      "21        290000022      0      291709     976   1325163            0   \n",
      "22        290000023      0      291639   13061   4165577            2   \n",
      "23        290000024      0      291827   45123   9687928            2   \n",
      "24        290000025      0      290703    7439  10379635            2   \n",
      "25        290000026      0      290829   96119    367500            2   \n",
      "26        290000027      0      291051   14499   2640349            0   \n",
      "27        290000028      0      291926   84510   5507140            0   \n",
      "28        290000029      0      290126   45983   9782275            2   \n",
      "29        290000030      0      291646     976   7164284            2   \n",
      "...             ...    ...         ...     ...       ...          ...   \n",
      "1788779   300919545      0      301410  110136   2779458            2   \n",
      "1788780   300919547      0      302323   35698   2138273            0   \n",
      "1788781   300919548      0      301214  121975   5430810            2   \n",
      "1788782   300919550      0      301956  113239   3935914            2   \n",
      "1788783   300919551      0      300824   23083   5735951            2   \n",
      "1788784   300919552      1      302007     976   6244966            2   \n",
      "1788785   300919553      0      300520   92285   5876855            2   \n",
      "1788786   300919554      0      300643   92285   6955578            2   \n",
      "1788787   300919555      0      302116  122753   3244130            2   \n",
      "1788788   300919556      0      300842   92285     53183            2   \n",
      "1788789   300919557      0      300653   68183    606757            0   \n",
      "1788790   300919558      1      302059   12410   3525515            2   \n",
      "1788791   300919559      0      301715   12410   5199620            0   \n",
      "1788792   300919560      0      301425   92285   7114210            2   \n",
      "1788793   300919561      1      301526   23356  10566213            0   \n",
      "1788794   300919562      0      301825   11366   5865991            1   \n",
      "1788795   300919563      0      300455   70192   9014842            2   \n",
      "1788796   300919564      0      301110    6854   1127086            2   \n",
      "1788797   300919565      0      300440   98412   6678948            2   \n",
      "1788798   300919566      1      301905   84510   4455461            2   \n",
      "1788799   300919567      0      301121   69497   3335675            2   \n",
      "1788800   300919568      0      300947   36124  10728382            2   \n",
      "1788801   300919569      0      301950  122753   7746094            2   \n",
      "1788802   300919570      0      301357   79613   9314552            2   \n",
      "1788803   300919571      0      302140   45123   3691383            0   \n",
      "1788804   300919572      0      301616   12410   1754433            0   \n",
      "1788805   300919573      0      301544   44810   3613965            1   \n",
      "1788806   300919574      0      301925   12410     95172            0   \n",
      "1788807   300919575      0      301631   12410   4992019            2   \n",
      "1788808   300919576      0      301034   49974   7401608            2   \n",
      "\n",
      "         conn_type  miui_version       ip  android_version       ...        \\\n",
      "0                1           669  5670992                2       ...         \n",
      "1                1           802  1167420               12       ...         \n",
      "2                1          1195  8846816               12       ...         \n",
      "3                0          1253  1803226               25       ...         \n",
      "4                1           802  6818484               12       ...         \n",
      "5                1          1667  2143688               25       ...         \n",
      "6                1           933  8872081               25       ...         \n",
      "7                1           406  6190052               25       ...         \n",
      "8                1           976  5936505               25       ...         \n",
      "9                1           762  4273950               25       ...         \n",
      "10               0          1285  1466548               32       ...         \n",
      "11               1           926  5488717               12       ...         \n",
      "12               1           240  8579906                5       ...         \n",
      "13               1          1041  3399869               25       ...         \n",
      "14               1          1651  7490029                5       ...         \n",
      "15               1           802  8210151               12       ...         \n",
      "16               1           861  6562989               12       ...         \n",
      "17               1          1555  6988152               15       ...         \n",
      "18               1           315   996706               25       ...         \n",
      "19               1           240  9530614                5       ...         \n",
      "20               1            -1  4179554               -1       ...         \n",
      "21               1           861  6065920               12       ...         \n",
      "22               0          1562  2581366               15       ...         \n",
      "23               1          1285  5260003               32       ...         \n",
      "24               1           926  4870790               12       ...         \n",
      "25               1          1697  1960802               25       ...         \n",
      "26               1           861  4783903               25       ...         \n",
      "27               1           861  1227560               12       ...         \n",
      "28               1           802  7722337               12       ...         \n",
      "29               1           926  4799709               12       ...         \n",
      "...            ...           ...      ...              ...       ...         \n",
      "1788779          1           926  3867610               12       ...         \n",
      "1788780          1           861  2018958               25       ...         \n",
      "1788781          1          1697   456763               25       ...         \n",
      "1788782          1           971  3730438               15       ...         \n",
      "1788783          1          1482  7149109               21       ...         \n",
      "1788784          1          1041  1375699               25       ...         \n",
      "1788785          1          1464  8904623               25       ...         \n",
      "1788786          1           926  5768488               12       ...         \n",
      "1788787          1           926  4682416               12       ...         \n",
      "1788788          0           442  3672073               15       ...         \n",
      "1788789          1           861  3022482               12       ...         \n",
      "1788790          1           824  8823741               21       ...         \n",
      "1788791          1           861  3985896               21       ...         \n",
      "1788792          1           824  8252003               21       ...         \n",
      "1788793          1          1111  3536324               12       ...         \n",
      "1788794          1            -1   861893               -1       ...         \n",
      "1788795          1           926  9071962               12       ...         \n",
      "1788796          1           762   999596               25       ...         \n",
      "1788797          1          1796  7753977               25       ...         \n",
      "1788798          1           976  6552161               25       ...         \n",
      "1788799          1            90   348638               21       ...         \n",
      "1788800          0          1195  1949165               12       ...         \n",
      "1788801          1           762  3346889               25       ...         \n",
      "1788802          1          1676  4204048               25       ...         \n",
      "1788803          1           861   699652               32       ...         \n",
      "1788804          1          1362  3576134               12       ...         \n",
      "1788805          1            -1  8737517               -1       ...         \n",
      "1788806          1           861  7534550               32       ...         \n",
      "1788807          1           806  6337674               21       ...         \n",
      "1788808          1          1041  2426995               25       ...         \n",
      "\n",
      "         app_cnum  ad_crate  app_crate  click_day  advertiser_num  \\\n",
      "0           11737  0.142045   0.146698   0.450000          434015   \n",
      "1          200547  0.156227   0.154046   0.950000         1301865   \n",
      "2          169432 -1.000000   0.103021   1.133333         1674979   \n",
      "3          169432  0.091040   0.103021   1.200000         1674979   \n",
      "4          583412  0.172047   0.153527   0.366667         7246815   \n",
      "5          169432 -1.000000   0.103021   0.366667         1674979   \n",
      "6          583412  0.172047   0.153527   0.633333         7246815   \n",
      "7          583412  0.151383   0.153527   1.066667         7246815   \n",
      "8          103312  0.145189   0.141521   0.800000         1651408   \n",
      "9           76030  0.103043   0.140972   0.316667         1651408   \n",
      "10         169432  0.108955   0.103021   0.616667         1674979   \n",
      "11          76186  0.106628   0.156361   0.266667          487244   \n",
      "12         583412  0.150979   0.153527   0.183333         7246815   \n",
      "13          76030  0.146018   0.140972   0.300000         1651408   \n",
      "14          66541  0.151906   0.138984   1.200000          478780   \n",
      "15         583412  0.154624   0.153527   0.700000         7246815   \n",
      "16         583412  0.172047   0.153527   0.516667         7246815   \n",
      "17            177  0.079929   0.078319   0.283333           25742   \n",
      "18          12242  0.104274   0.077367   0.550000          158233   \n",
      "19           4143  0.170810   0.170263   0.383333           24333   \n",
      "20           1398  0.028777   0.059614   1.000000          484753   \n",
      "21          76030  0.127613   0.140972   0.433333         1651408   \n",
      "22         169432 -1.000000   0.103021   0.916667         1674979   \n",
      "23          36587  0.229134   0.186089   0.750000         7246815   \n",
      "24           1952  0.100556   0.094514   0.166667           20653   \n",
      "25         583412  0.146723   0.153527   0.616667         7246815   \n",
      "26         583412  0.151383   0.153527   1.016667         7246815   \n",
      "27         103312  0.145189   0.141521   0.750000         1651408   \n",
      "28           3897  0.157382   0.175438   0.450000           87274   \n",
      "29          76030  0.127613   0.140972   1.033333         1651408   \n",
      "...           ...       ...        ...        ...             ...   \n",
      "1788779    200547  0.156227   0.154046   0.400000         1301865   \n",
      "1788780     12242  0.062381   0.077367   0.766667          158233   \n",
      "1788781     76186  0.155757   0.156361   0.433333          487244   \n",
      "1788782      2760  0.080389   0.091119   1.250000          296874   \n",
      "1788783      2760  0.096138   0.091119   0.533333          296874   \n",
      "1788784     76030  0.127613   0.140972   0.450000         1651408   \n",
      "1788785    169432 -1.000000   0.103021   0.416667         1674979   \n",
      "1788786    169432 -1.000000   0.103021   0.816667         1674979   \n",
      "1788787    583412  0.104868   0.153527   0.616667         7246815   \n",
      "1788788    169432 -1.000000   0.103021   0.833333         1674979   \n",
      "1788789    200547  0.120423   0.154046   0.983333         1301865   \n",
      "1788790    583412  0.172047   0.153527   1.316667         7246815   \n",
      "1788791    583412  0.172047   0.153527   0.533333         7246815   \n",
      "1788792    169432 -1.000000   0.103021   0.650000         1674979   \n",
      "1788793     76030  0.146018   0.140972   0.683333         1651408   \n",
      "1788794    169432 -1.000000   0.103021   0.716667         1674979   \n",
      "1788795    583412  0.150979   0.153527   0.983333         7246815   \n",
      "1788796     76186  0.172381   0.156361   0.350000          487244   \n",
      "1788797      1377  0.067250   0.065475   0.733333           21031   \n",
      "1788798    103312  0.145189   0.141521   0.400000         1651408   \n",
      "1788799    583412  0.112155   0.153527   0.533333         7246815   \n",
      "1788800    169432 -1.000000   0.103021   0.933333         1674979   \n",
      "1788801    583412  0.104868   0.153527   1.150000         7246815   \n",
      "1788802     65667  0.162680   0.154221   1.166667         7246815   \n",
      "1788803     36587  0.229134   0.186089   1.016667         7246815   \n",
      "1788804    583412  0.172047   0.153527   0.533333         7246815   \n",
      "1788805      2058  0.071090   0.090172   0.983333          434015   \n",
      "1788806    583412  0.172047   0.153527   0.733333         7246815   \n",
      "1788807    583412  0.172047   0.153527   0.783333         7246815   \n",
      "1788808     12457  0.099127   0.098278   0.733333          126753   \n",
      "\n",
      "         compaign_num advertiser_cnum  compaign_cnum  advertiser_crate  \\\n",
      "0               80008           56016          11737          0.129065   \n",
      "1             1301865          200547         200547          0.154046   \n",
      "2                  57          173023              5          0.103299   \n",
      "3             1553795          173023         157574          0.103299   \n",
      "4             1344308         1080082         231657          0.149042   \n",
      "5                  57          173023              5          0.103299   \n",
      "6             1344308         1080082         231657          0.149042   \n",
      "7              566161         1080082          85797          0.149042   \n",
      "8              368495          210206          45910          0.127289   \n",
      "9              539327          210206          76030          0.127289   \n",
      "10            1553795          173023         157574          0.103299   \n",
      "11             299198           76186          48188          0.156361   \n",
      "12             654613         1080082          99531          0.149042   \n",
      "13             539327          210206          76030          0.127289   \n",
      "14             176161           66544          26760          0.138987   \n",
      "15             566161         1080082          85797          0.149042   \n",
      "16            1344308         1080082         231657          0.149042   \n",
      "17               2260            2221            177          0.086279   \n",
      "18             158233           12242          12242          0.077367   \n",
      "19              24333            4143           4143          0.170263   \n",
      "20              16747           29267            921          0.060375   \n",
      "21             539327          210206          76030          0.127289   \n",
      "22                  0          173023              0          0.103299   \n",
      "23             129917         1080082          26961          0.149042   \n",
      "24              20653            1952           1952          0.094514   \n",
      "25              77106         1080082          11198          0.149042   \n",
      "26             566161         1080082          85797          0.149042   \n",
      "27             368495          210206          45910          0.127289   \n",
      "28              12032           11363           1821          0.130199   \n",
      "29             539327          210206          76030          0.127289   \n",
      "...               ...             ...            ...               ...   \n",
      "1788779       1301865          200547         200547          0.154046   \n",
      "1788780        158233           12242          12242          0.077367   \n",
      "1788781         84079           76186          12960          0.156361   \n",
      "1788782         24263           39043           2268          0.131514   \n",
      "1788783         24263           39043           2268          0.131514   \n",
      "1788784        539327          210206          76030          0.127289   \n",
      "1788785            57          173023              5          0.103299   \n",
      "1788786            57          173023              5          0.103299   \n",
      "1788787        506347         1080082          63083          0.149042   \n",
      "1788788            57          173023              5          0.103299   \n",
      "1788789       1301865          200547         200547          0.154046   \n",
      "1788790       1344308         1080082         231657          0.149042   \n",
      "1788791       1344308         1080082         231657          0.149042   \n",
      "1788792            57          173023              5          0.103299   \n",
      "1788793        539327          210206          76030          0.127289   \n",
      "1788794             0          173023              0          0.103299   \n",
      "1788795        654613         1080082          99531          0.149042   \n",
      "1788796        299198           76186          48188          0.156361   \n",
      "1788797         21031            1377           1377          0.065475   \n",
      "1788798        368495          210206          45910          0.127289   \n",
      "1788799        555420         1080082          79773          0.149042   \n",
      "1788800             0          173023              0          0.103299   \n",
      "1788801        506347         1080082          63083          0.149042   \n",
      "1788802        156419         1080082          24487          0.149042   \n",
      "1788803        129917         1080082          26961          0.149042   \n",
      "1788804       1344308         1080082         231657          0.149042   \n",
      "1788805         22823           56016           2058          0.129065   \n",
      "1788806       1344308         1080082         231657          0.149042   \n",
      "1788807       1344308         1080082         231657          0.149042   \n",
      "1788808        124268           12457          12341          0.098278   \n",
      "\n",
      "         compaign_crate  \n",
      "0              0.146698  \n",
      "1              0.154046  \n",
      "2              0.087719  \n",
      "3              0.101412  \n",
      "4              0.172324  \n",
      "5              0.087719  \n",
      "6              0.172324  \n",
      "7              0.151542  \n",
      "8              0.124588  \n",
      "9              0.140972  \n",
      "10             0.101412  \n",
      "11             0.161057  \n",
      "12             0.152046  \n",
      "13             0.140972  \n",
      "14             0.151906  \n",
      "15             0.151542  \n",
      "16             0.172324  \n",
      "17             0.078319  \n",
      "18             0.077367  \n",
      "19             0.170263  \n",
      "20             0.054995  \n",
      "21             0.140972  \n",
      "22            -1.000000  \n",
      "23             0.207525  \n",
      "24             0.094514  \n",
      "25             0.145229  \n",
      "26             0.151542  \n",
      "27             0.124588  \n",
      "28             0.151346  \n",
      "29             0.140972  \n",
      "...                 ...  \n",
      "1788779        0.154046  \n",
      "1788780        0.077367  \n",
      "1788781        0.154141  \n",
      "1788782        0.093476  \n",
      "1788783        0.093476  \n",
      "1788784        0.140972  \n",
      "1788785        0.087719  \n",
      "1788786        0.087719  \n",
      "1788787        0.124585  \n",
      "1788788        0.087719  \n",
      "1788789        0.154046  \n",
      "1788790        0.172324  \n",
      "1788791        0.172324  \n",
      "1788792        0.087719  \n",
      "1788793        0.140972  \n",
      "1788794       -1.000000  \n",
      "1788795        0.152046  \n",
      "1788796        0.161057  \n",
      "1788797        0.065475  \n",
      "1788798        0.124588  \n",
      "1788799        0.143626  \n",
      "1788800       -1.000000  \n",
      "1788801        0.124585  \n",
      "1788802        0.156547  \n",
      "1788803        0.207525  \n",
      "1788804        0.172324  \n",
      "1788805        0.090172  \n",
      "1788806        0.172324  \n",
      "1788807        0.172324  \n",
      "1788808        0.099310  \n",
      "\n",
      "[1788809 rows x 39 columns]\n"
     ]
    }
   ],
   "source": [
    "print train_data"
   ]
  },
  {
   "cell_type": "code",
   "execution_count": 23,
   "metadata": {
    "collapsed": true
   },
   "outputs": [],
   "source": [
    "# print train_data.dtypes\n",
    "# print test_data.columns\n",
    "\n",
    "train_data.to_csv('train1901.csv', index = False)\n",
    "test_data.to_csv('test1901.csv', index = False)"
   ]
  },
  {
   "cell_type": "code",
   "execution_count": 70,
   "metadata": {
    "collapsed": true
   },
   "outputs": [],
   "source": [
    "#Run gbdt\n",
    "\n",
    "gdbt = GradientBoostingClassifier()\n",
    "gdbt = gdbt.fit(train_set, train_label)\n",
    "\n",
    "gbdt = gdbt.predict_proba(test_set)\n",
    "gbdt = pd.DataFrame(gbdt)\n"
   ]
  },
  {
   "cell_type": "code",
   "execution_count": 72,
   "metadata": {},
   "outputs": [
    {
     "name": "stdout",
     "output_type": "stream",
     "text": [
      "         instance_id      prob\n",
      "0          320000001  0.129302\n",
      "1          320000002  0.135952\n",
      "2          320000003  0.084100\n",
      "3          320000004  0.146750\n",
      "4          320000005  0.105627\n",
      "5          320000006  0.076122\n",
      "6          320000007  0.139573\n",
      "7          320000008  0.079745\n",
      "8          320000009  0.146317\n",
      "9          320000010  0.080316\n",
      "10         320000011  0.205742\n",
      "11         320000013  0.119374\n",
      "12         320000014  0.133618\n",
      "13         320000015  0.134151\n",
      "14         320000016  0.064189\n",
      "15         320000017  0.094411\n",
      "16         320000018  0.173301\n",
      "17         320000019  0.057983\n",
      "18         320000020  0.136176\n",
      "19         320000021  0.120763\n",
      "20         320000022  0.058394\n",
      "21         320000023  0.161100\n",
      "22         320000024  0.239734\n",
      "23         320000025  0.104295\n",
      "24         320000026  0.074580\n",
      "25         320000027  0.147243\n",
      "26         320000028  0.256113\n",
      "27         320000029  0.167258\n",
      "28         320000030  0.130040\n",
      "29         320000031  0.109875\n",
      "...              ...       ...\n",
      "2163100    331253846  0.110061\n",
      "2163101    331253848  0.147184\n",
      "2163102    331253849  0.190497\n",
      "2163103    331253850  0.150783\n",
      "2163104    331253851  0.090663\n",
      "2163105    331253852  0.050873\n",
      "2163106    331253853  0.073165\n",
      "2163107    331253854  0.097991\n",
      "2163108    331253855  0.124310\n",
      "2163109    331253856  0.195610\n",
      "2163110    331253857  0.096464\n",
      "2163111    331253858  0.144207\n",
      "2163112    331253859  0.170603\n",
      "2163113    331253860  0.124032\n",
      "2163114    331253861  0.136526\n",
      "2163115    331253862  0.136526\n",
      "2163116    331253863  0.138698\n",
      "2163117    331253864  0.138698\n",
      "2163118    331253865  0.111292\n",
      "2163119    331253866  0.117408\n",
      "2163120    331253867  0.172598\n",
      "2163121    331253868  0.118572\n",
      "2163122    331253869  0.118572\n",
      "2163123    331253872  0.130970\n",
      "2163124    331253873  0.130970\n",
      "2163125    331253874  0.181176\n",
      "2163126    331253875  0.181176\n",
      "2163127    331253876  0.139296\n",
      "2163128    331253877  0.051680\n",
      "2163129    331253878  0.122257\n",
      "\n",
      "[2163130 rows x 2 columns]\n"
     ]
    }
   ],
   "source": [
    "ins = test_data['instand_id'].copy()\n",
    "ans = pd.concat([ins, gbdt[1]], axis = 1)\n",
    "ans.columns = ['instance_id', 'prob']\n",
    "\n",
    "print ans "
   ]
  },
  {
   "cell_type": "code",
   "execution_count": 73,
   "metadata": {
    "collapsed": true
   },
   "outputs": [],
   "source": [
    "ans.to_csv('star_0917_01.csv',index = False)"
   ]
  },
  {
   "cell_type": "code",
   "execution_count": null,
   "metadata": {
    "collapsed": true
   },
   "outputs": [],
   "source": []
  }
 ],
 "metadata": {
  "kernelspec": {
   "display_name": "Python 2",
   "language": "python",
   "name": "python2"
  },
  "language_info": {
   "codemirror_mode": {
    "name": "ipython",
    "version": 2
   },
   "file_extension": ".py",
   "mimetype": "text/x-python",
   "name": "python",
   "nbconvert_exporter": "python",
   "pygments_lexer": "ipython2",
   "version": "2.7.5"
  }
 },
 "nbformat": 4,
 "nbformat_minor": 2
}

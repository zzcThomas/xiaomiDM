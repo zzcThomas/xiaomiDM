{
 "cells": [
  {
   "cell_type": "code",
   "execution_count": 1,
   "metadata": {
    "collapsed": true
   },
   "outputs": [],
   "source": [
    "# -*- coding: UTF-8 -*-\n",
    "import time\n",
    "import pandas as pd\n",
    "import pickle\n",
    "import os\n",
    "from datetime import datetime,timedelta\n",
    "from sklearn.ensemble import GradientBoostingClassifier\n",
    "import random\n",
    "import xgboost as xgb\n",
    "import numpy as np\n",
    "from sklearn.model_selection import train_test_split\n",
    "from operator import itemgetter\n",
    "import operator\n",
    "from sklearn.model_selection import KFold\n",
    "import scipy as sp\n",
    "import gc\n",
    "import lightgbm as lgb\n",
    "from collections import Counter\n",
    "from collections import defaultdict"
   ]
  },
  {
   "cell_type": "code",
   "execution_count": 2,
   "metadata": {
    "collapsed": true
   },
   "outputs": [],
   "source": [
    "app_cat = pd.read_csv('data/app200_category.csv')\n",
    "tot_actions = pd.read_csv('total_action.csv')"
   ]
  },
  {
   "cell_type": "code",
   "execution_count": 37,
   "metadata": {},
   "outputs": [
    {
     "name": "stdout",
     "output_type": "stream",
     "text": [
      "Index([u'userid', u'app_id', u'action_type', u'action_time'], dtype='object')\n",
      "Index([u'app_id', u'des', u'cat1', u'cat2'], dtype='object')\n"
     ]
    }
   ],
   "source": [
    "print tot_actions.columns\n",
    "print app_cat.columns"
   ]
  },
  {
   "cell_type": "code",
   "execution_count": 5,
   "metadata": {
    "collapsed": true
   },
   "outputs": [],
   "source": [
    "#app分类map\n",
    "app_cat1 = []\n",
    "for i in app_cat['cat1']:\n",
    "    if (i == 0):\n",
    "        app_cat1.append(4)\n",
    "    else:\n",
    "        app_cat1.append(i)\n",
    "del app_cat['cat1']\n",
    "app_cat['cat1'] = app_cat1\n",
    "\n",
    "app_map = defaultdict(int)\n",
    "for i, dx in app_cat.iterrows():\n",
    "    app_map[dx.app_id] = dx.cat1"
   ]
  },
  {
   "cell_type": "code",
   "execution_count": 69,
   "metadata": {},
   "outputs": [
    {
     "name": "stdout",
     "output_type": "stream",
     "text": [
      "10000000\n",
      "20000000\n",
      "30000000\n",
      "40000000\n",
      "50000000\n",
      "60000000\n"
     ]
    }
   ],
   "source": [
    "#计算同一类下app的安装，卸载，下载个数\n",
    "import csv\n",
    "nd = {}\n",
    "num = 0\n",
    "\n",
    "with open('total_action.csv','rb') as csvfile:\n",
    "    tot_actions = csv.DictReader(csvfile)\n",
    "\n",
    "    for rec in tot_actions:\n",
    "        \n",
    "        if (int(rec['action_time']) > 272359):\n",
    "            continue\n",
    "\n",
    "        num += 1\n",
    "\n",
    "        actype = 0\n",
    "        if (rec['action_type'] == 'DOWNLOADED'):\n",
    "            actype = 1\n",
    "        elif(rec['action_type'] == 'INSTALLED'):\n",
    "            actype = 2\n",
    "\n",
    "        key = str(rec['userid']) + ',' + str(app_map[rec['app_id']])\n",
    "\n",
    "        if (not nd.has_key(key)):\n",
    "            nd[key] = [0, 0, 0]\n",
    "\n",
    "        nd[key][actype] += 1\n",
    "\n",
    "        if (num %10000000 == 0):\n",
    "            print num\n",
    "            \n",
    "        "
   ]
  },
  {
   "cell_type": "code",
   "execution_count": 2,
   "metadata": {},
   "outputs": [
    {
     "name": "stdout",
     "output_type": "stream",
     "text": [
      "1806748\n",
      "1806748\n"
     ]
    }
   ],
   "source": [
    "d28 = pd.read_csv('280000.csv')\n",
    "d29 = pd.read_csv('290000.csv')\n",
    "d30 = pd.read_csv('300000.csv')\n",
    "\n",
    "traindata = pd.concat([d28, d29])\n",
    "testdata = d30.copy()\n",
    "\n",
    "print len(d28) + len(d29)\n",
    "print len(traindata)"
   ]
  },
  {
   "cell_type": "code",
   "execution_count": 70,
   "metadata": {},
   "outputs": [
    {
     "name": "stdout",
     "output_type": "stream",
     "text": [
      "test done\n",
      "train done\n"
     ]
    }
   ],
   "source": [
    "#traindata，testdata拼接actiontype\n",
    "testact0 = []\n",
    "testact1 = []\n",
    "testact2 = []\n",
    "\n",
    "with open('300000.csv','rb') as csvfile:\n",
    "    actions30 = csv.DictReader(csvfile)\n",
    "\n",
    "    for rec in actions30:\n",
    "        testact0.append(nd.get(str(rec['user_id']) + ',' + str(app_map[rec['app_id']]), [-1, -1, -1])[0])\n",
    "        testact1.append(nd.get(str(rec['user_id']) + ',' + str(app_map[rec['app_id']]), [-1, -1, -1])[1])\n",
    "        testact2.append(nd.get(str(rec['user_id']) + ',' + str(app_map[rec['app_id']]), [-1, -1, -1])[2])\n",
    "\n",
    "print 'test done'\n",
    "\n",
    "trainact0 = []\n",
    "trainact1 = []\n",
    "trainact2 = []\n",
    "\n",
    "for fn in ['280000.csv', '290000.csv']:\n",
    "    with open(fn, 'rb') as csvfile:\n",
    "        actions33 = csv.DictReader(csvfile)\n",
    "\n",
    "        for rec in actions33:\n",
    "            trainact0.append(nd.get(str(rec['user_id']) + ',' + str(app_map[rec['app_id']]), [-1, -1, -1])[0])\n",
    "            trainact1.append(nd.get(str(rec['user_id']) + ',' + str(app_map[rec['app_id']]), [-1, -1, -1])[1])\n",
    "            trainact2.append(nd.get(str(rec['user_id']) + ',' + str(app_map[rec['app_id']]), [-1, -1, -1])[2])\n",
    "            \n",
    "print 'train done'"
   ]
  },
  {
   "cell_type": "code",
   "execution_count": 73,
   "metadata": {
    "collapsed": true
   },
   "outputs": [],
   "source": [
    "del traindata['action0']\n",
    "del traindata['action1']\n",
    "del traindata['action2']\n",
    "\n",
    "del testdata['action0']\n",
    "del testdata['action1']\n",
    "del testdata['action2']"
   ]
  },
  {
   "cell_type": "code",
   "execution_count": 74,
   "metadata": {
    "collapsed": true
   },
   "outputs": [],
   "source": [
    "traindata['action0'] = trainact0\n",
    "traindata['action1'] = trainact1\n",
    "traindata['action2'] = trainact2\n",
    "\n",
    "testdata['action0'] = testact0\n",
    "testdata['action1'] = testact1\n",
    "testdata['action2'] = testact2"
   ]
  },
  {
   "cell_type": "code",
   "execution_count": null,
   "metadata": {
    "collapsed": true
   },
   "outputs": [],
   "source": [
    "shopping = pd.read_csv('./data/shopping_data.csv')"
   ]
  },
  {
   "cell_type": "code",
   "execution_count": null,
   "metadata": {
    "collapsed": true
   },
   "outputs": [],
   "source": [
    "print shopping"
   ]
  },
  {
   "cell_type": "code",
   "execution_count": 19,
   "metadata": {
    "collapsed": true
   },
   "outputs": [],
   "source": [
    "def fun(x):\n",
    "    sl = x[0].split(',')\n",
    "    return len(sl)\n",
    "\n",
    "shopping['shopping_num'] = shopping[['shopping']].apply(fun, axis = 1)"
   ]
  },
  {
   "cell_type": "code",
   "execution_count": 21,
   "metadata": {
    "collapsed": true
   },
   "outputs": [],
   "source": [
    "user_shopping = shopping[['user_id', 'shopping_num']].copy()"
   ]
  },
  {
   "cell_type": "code",
   "execution_count": 27,
   "metadata": {
    "collapsed": true
   },
   "outputs": [],
   "source": [
    "from collections import defaultdict  \n",
    "dd = defaultdict(int)\n",
    "\n",
    "for i, dx in user_shopping.iterrows():\n",
    "    dd[dx.user_id] += dx.shopping_num\n"
   ]
  },
  {
   "cell_type": "code",
   "execution_count": 29,
   "metadata": {
    "collapsed": true
   },
   "outputs": [],
   "source": [
    "trainmap = []\n",
    "testmap = []\n",
    "\n",
    "for i in traindata['user_id']:\n",
    "    trainmap.append(dd[i])\n",
    "for i in testdata['user_id']:\n",
    "    testmap.append(dd[i])\n",
    "\n",
    "traindata['user_shopping'] = trainmap\n",
    "testdata['user_shopping'] = testmap"
   ]
  },
  {
   "cell_type": "code",
   "execution_count": 78,
   "metadata": {},
   "outputs": [
    {
     "name": "stdout",
     "output_type": "stream",
     "text": [
      "96329381\n"
     ]
    }
   ],
   "source": [
    "tot_usage = pd.read_csv('total_usage.csv')\n",
    "print len(tot_usage)"
   ]
  },
  {
   "cell_type": "code",
   "execution_count": 3,
   "metadata": {
    "collapsed": true
   },
   "outputs": [],
   "source": [
    "shopping = pd.read_csv('shopping_feature.csv')"
   ]
  },
  {
   "cell_type": "code",
   "execution_count": 4,
   "metadata": {},
   "outputs": [
    {
     "name": "stdout",
     "output_type": "stream",
     "text": [
      "Index([u'instance_id', u'label', u'sum_t'], dtype='object')\n"
     ]
    }
   ],
   "source": [
    "print shopping.columns"
   ]
  },
  {
   "cell_type": "code",
   "execution_count": 8,
   "metadata": {
    "collapsed": true
   },
   "outputs": [],
   "source": [
    "del shopping['label']"
   ]
  },
  {
   "cell_type": "code",
   "execution_count": 12,
   "metadata": {},
   "outputs": [
    {
     "name": "stdout",
     "output_type": "stream",
     "text": [
      "1806748\n",
      "1806748\n",
      "893540\n",
      "893540\n"
     ]
    }
   ],
   "source": [
    "print len(traindata)\n",
    "traindata = pd.merge(traindata, shopping, how = 'left', on = 'instance_id')\n",
    "print len(traindata)\n",
    "print len(testdata)\n",
    "testdata = pd.merge(testdata, shopping, how = 'left', on = 'instance_id')\n",
    "print len(testdata)"
   ]
  },
  {
   "cell_type": "code",
   "execution_count": 13,
   "metadata": {},
   "outputs": [
    {
     "name": "stdout",
     "output_type": "stream",
     "text": [
      "Index([u'instance_id', u'label', u'click_time', u'ad_id', u'user_id',\n",
      "       u'position_id', u'connection_type', u'MIUI_version', u'IP',\n",
      "       u'android_version', u'advertiser_id', u'compaign_id', u'app_id', u'age',\n",
      "       u'gender', u'education', u'provice', u'city', u'device_info',\n",
      "       u'app_category1', u'app_category2', u'ad_id_click', u'ad_id_use',\n",
      "       u'ad_id_click_maen', u'ad_id_use_maen', u'ad_id_ratio',\n",
      "       u'compaign_id_click', u'compaign_id_use', u'compaign_id_click_maen',\n",
      "       u'compaign_id_use_maen', u'compaign_id_ratio', u'advertiser_id_click',\n",
      "       u'advertiser_id_use', u'advertiser_id_click_maen',\n",
      "       u'advertiser_id_use_maen', u'advertiser_id_ratio', u'app_id_click',\n",
      "       u'app_id_use', u'app_id_click_maen', u'app_id_use_maen',\n",
      "       u'app_id_ratio', u'user_install_app_pre', u'user_usage_app_count',\n",
      "       u'user_usage_app_time', u'user_usage_app_count_mean',\n",
      "       u'user_usage_app_time_mean', u'user_id_app_id_count',\n",
      "       u'user_id_app_id_use', u'user_app_idratio', u'user_id_ad_id_count',\n",
      "       u'user_id_ad_id_use', u'user_ad_idratio', u'sum_t'],\n",
      "      dtype='object')\n"
     ]
    }
   ],
   "source": [
    "print traindata.columns"
   ]
  },
  {
   "cell_type": "code",
   "execution_count": 15,
   "metadata": {},
   "outputs": [
    {
     "name": "stdout",
     "output_type": "stream",
     "text": [
      "50\n",
      "(1806748, 893540)\n"
     ]
    },
    {
     "name": "stderr",
     "output_type": "stream",
     "text": [
      "[0]\ttrain-logloss:0.668226\teval-logloss:0.668329\n",
      "[1]\ttrain-logloss:0.645237\teval-logloss:0.645466\n",
      "[2]\ttrain-logloss:0.624489\teval-logloss:0.624903\n",
      "[3]\ttrain-logloss:0.605299\teval-logloss:0.605859\n",
      "[4]\ttrain-logloss:0.588166\teval-logloss:0.588874\n",
      "[5]\ttrain-logloss:0.572171\teval-logloss:0.573043\n",
      "[6]\ttrain-logloss:0.557550\teval-logloss:0.558572\n",
      "[7]\ttrain-logloss:0.544183\teval-logloss:0.545308\n",
      "[8]\ttrain-logloss:0.531915\teval-logloss:0.533186\n",
      "[9]\ttrain-logloss:0.520625\teval-logloss:0.521983\n",
      "[10]\ttrain-logloss:0.510281\teval-logloss:0.511726\n",
      "[11]\ttrain-logloss:0.500751\teval-logloss:0.502313\n",
      "[12]\ttrain-logloss:0.492005\teval-logloss:0.493672\n",
      "[13]\ttrain-logloss:0.484091\teval-logloss:0.485816\n",
      "[14]\ttrain-logloss:0.476638\teval-logloss:0.478456\n",
      "[15]\ttrain-logloss:0.469776\teval-logloss:0.471676\n",
      "[16]\ttrain-logloss:0.463420\teval-logloss:0.465405\n",
      "[17]\ttrain-logloss:0.457570\teval-logloss:0.459622\n",
      "[18]\ttrain-logloss:0.452175\teval-logloss:0.454320\n",
      "[19]\ttrain-logloss:0.447192\teval-logloss:0.449395\n",
      "[20]\ttrain-logloss:0.442602\teval-logloss:0.444935\n",
      "[21]\ttrain-logloss:0.438505\teval-logloss:0.440933\n",
      "[22]\ttrain-logloss:0.434551\teval-logloss:0.437070\n",
      "[23]\ttrain-logloss:0.430897\teval-logloss:0.433522\n",
      "[24]\ttrain-logloss:0.427698\teval-logloss:0.430379\n",
      "[25]\ttrain-logloss:0.424556\teval-logloss:0.427271\n",
      "[26]\ttrain-logloss:0.421645\teval-logloss:0.424438\n",
      "[27]\ttrain-logloss:0.418950\teval-logloss:0.421793\n",
      "[28]\ttrain-logloss:0.416630\teval-logloss:0.419537\n",
      "[29]\ttrain-logloss:0.414311\teval-logloss:0.417308\n",
      "[30]\ttrain-logloss:0.412163\teval-logloss:0.415207\n",
      "[31]\ttrain-logloss:0.410177\teval-logloss:0.413265\n",
      "[32]\ttrain-logloss:0.408341\teval-logloss:0.411499\n",
      "[33]\ttrain-logloss:0.406624\teval-logloss:0.409830\n",
      "[34]\ttrain-logloss:0.405237\teval-logloss:0.408475\n",
      "[35]\ttrain-logloss:0.403765\teval-logloss:0.407053\n",
      "[36]\ttrain-logloss:0.402386\teval-logloss:0.405731\n",
      "[37]\ttrain-logloss:0.401282\teval-logloss:0.404682\n",
      "[38]\ttrain-logloss:0.400261\teval-logloss:0.403680\n",
      "[39]\ttrain-logloss:0.399146\teval-logloss:0.402648\n",
      "[40]\ttrain-logloss:0.398122\teval-logloss:0.401657\n",
      "[41]\ttrain-logloss:0.397167\teval-logloss:0.400738\n",
      "[42]\ttrain-logloss:0.396418\teval-logloss:0.400010\n",
      "[43]\ttrain-logloss:0.395586\teval-logloss:0.399203\n",
      "[44]\ttrain-logloss:0.394816\teval-logloss:0.398469\n",
      "[45]\ttrain-logloss:0.394092\teval-logloss:0.397780\n",
      "[46]\ttrain-logloss:0.393412\teval-logloss:0.397145\n",
      "[47]\ttrain-logloss:0.392785\teval-logloss:0.396554\n",
      "[48]\ttrain-logloss:0.392207\teval-logloss:0.395990\n",
      "[49]\ttrain-logloss:0.391791\teval-logloss:0.395594\n",
      "[50]\ttrain-logloss:0.391268\teval-logloss:0.395098\n",
      "[51]\ttrain-logloss:0.390855\teval-logloss:0.394695\n",
      "[52]\ttrain-logloss:0.390414\teval-logloss:0.394289\n",
      "[53]\ttrain-logloss:0.390002\teval-logloss:0.393908\n",
      "[54]\ttrain-logloss:0.389619\teval-logloss:0.393556\n",
      "[55]\ttrain-logloss:0.389254\teval-logloss:0.393222\n",
      "[56]\ttrain-logloss:0.389003\teval-logloss:0.392982\n",
      "[57]\ttrain-logloss:0.388679\teval-logloss:0.392682\n",
      "[58]\ttrain-logloss:0.388397\teval-logloss:0.392427\n",
      "[59]\ttrain-logloss:0.388169\teval-logloss:0.392208\n",
      "[60]\ttrain-logloss:0.387888\teval-logloss:0.391945\n",
      "[61]\ttrain-logloss:0.387724\teval-logloss:0.391789\n",
      "[62]\ttrain-logloss:0.387481\teval-logloss:0.391568\n",
      "[63]\ttrain-logloss:0.387256\teval-logloss:0.391360\n",
      "[64]\ttrain-logloss:0.387063\teval-logloss:0.391182\n",
      "[65]\ttrain-logloss:0.386881\teval-logloss:0.391019\n",
      "[66]\ttrain-logloss:0.386755\teval-logloss:0.390910\n",
      "[67]\ttrain-logloss:0.386596\teval-logloss:0.390765\n",
      "[68]\ttrain-logloss:0.386475\teval-logloss:0.390664\n",
      "[69]\ttrain-logloss:0.386336\teval-logloss:0.390535\n",
      "[70]\ttrain-logloss:0.386240\teval-logloss:0.390451\n",
      "[71]\ttrain-logloss:0.386084\teval-logloss:0.390321\n",
      "[72]\ttrain-logloss:0.385965\teval-logloss:0.390214\n",
      "[73]\ttrain-logloss:0.385879\teval-logloss:0.390131\n",
      "[74]\ttrain-logloss:0.385763\teval-logloss:0.390035\n",
      "[75]\ttrain-logloss:0.385683\teval-logloss:0.389969\n",
      "[76]\ttrain-logloss:0.385605\teval-logloss:0.389904\n",
      "[77]\ttrain-logloss:0.385536\teval-logloss:0.389844\n",
      "[78]\ttrain-logloss:0.385411\teval-logloss:0.389735\n",
      "[79]\ttrain-logloss:0.385282\teval-logloss:0.389641\n",
      "[80]\ttrain-logloss:0.385200\teval-logloss:0.389571\n",
      "[81]\ttrain-logloss:0.385116\teval-logloss:0.389500\n",
      "[82]\ttrain-logloss:0.385036\teval-logloss:0.389436\n",
      "[83]\ttrain-logloss:0.384962\teval-logloss:0.389371\n",
      "[84]\ttrain-logloss:0.384870\teval-logloss:0.389290\n",
      "[85]\ttrain-logloss:0.384817\teval-logloss:0.389251\n",
      "[86]\ttrain-logloss:0.384735\teval-logloss:0.389183\n",
      "[87]\ttrain-logloss:0.384674\teval-logloss:0.389135\n",
      "[88]\ttrain-logloss:0.384590\teval-logloss:0.389056\n",
      "[89]\ttrain-logloss:0.384534\teval-logloss:0.389013\n",
      "[90]\ttrain-logloss:0.384443\teval-logloss:0.388933\n",
      "[91]\ttrain-logloss:0.384400\teval-logloss:0.388903\n",
      "[92]\ttrain-logloss:0.384330\teval-logloss:0.388850\n",
      "[93]\ttrain-logloss:0.384263\teval-logloss:0.388793\n",
      "[94]\ttrain-logloss:0.384176\teval-logloss:0.388718\n",
      "[95]\ttrain-logloss:0.384134\teval-logloss:0.388690\n",
      "[96]\ttrain-logloss:0.384089\teval-logloss:0.388646\n",
      "[97]\ttrain-logloss:0.384054\teval-logloss:0.388621\n",
      "[98]\ttrain-logloss:0.383991\teval-logloss:0.388571\n",
      "[99]\ttrain-logloss:0.383906\teval-logloss:0.388496\n",
      "[100]\ttrain-logloss:0.383827\teval-logloss:0.388445\n",
      "[101]\ttrain-logloss:0.383787\teval-logloss:0.388420\n",
      "[102]\ttrain-logloss:0.383740\teval-logloss:0.388383\n",
      "[103]\ttrain-logloss:0.383698\teval-logloss:0.388354\n",
      "[104]\ttrain-logloss:0.383618\teval-logloss:0.388288\n",
      "[105]\ttrain-logloss:0.383568\teval-logloss:0.388247\n",
      "[106]\ttrain-logloss:0.383524\teval-logloss:0.388217\n",
      "[107]\ttrain-logloss:0.383471\teval-logloss:0.388188\n",
      "[108]\ttrain-logloss:0.383415\teval-logloss:0.388143\n",
      "[109]\ttrain-logloss:0.383383\teval-logloss:0.388116\n",
      "[110]\ttrain-logloss:0.383325\teval-logloss:0.388066\n",
      "[111]\ttrain-logloss:0.383296\teval-logloss:0.388046\n",
      "[112]\ttrain-logloss:0.383247\teval-logloss:0.388011\n",
      "[113]\ttrain-logloss:0.383211\teval-logloss:0.387987\n",
      "[114]\ttrain-logloss:0.383164\teval-logloss:0.387948\n",
      "[115]\ttrain-logloss:0.383113\teval-logloss:0.387914\n",
      "[116]\ttrain-logloss:0.383086\teval-logloss:0.387891\n",
      "[117]\ttrain-logloss:0.383044\teval-logloss:0.387857\n",
      "[118]\ttrain-logloss:0.382998\teval-logloss:0.387820\n",
      "[119]\ttrain-logloss:0.382965\teval-logloss:0.387800\n",
      "[120]\ttrain-logloss:0.382925\teval-logloss:0.387776\n",
      "[121]\ttrain-logloss:0.382903\teval-logloss:0.387762\n",
      "[122]\ttrain-logloss:0.382881\teval-logloss:0.387755\n",
      "[123]\ttrain-logloss:0.382861\teval-logloss:0.387737\n",
      "[124]\ttrain-logloss:0.382839\teval-logloss:0.387728\n",
      "[125]\ttrain-logloss:0.382779\teval-logloss:0.387684\n",
      "[126]\ttrain-logloss:0.382758\teval-logloss:0.387671\n",
      "[127]\ttrain-logloss:0.382734\teval-logloss:0.387656\n",
      "[128]\ttrain-logloss:0.382711\teval-logloss:0.387643\n",
      "[129]\ttrain-logloss:0.382656\teval-logloss:0.387597\n",
      "[130]\ttrain-logloss:0.382627\teval-logloss:0.387576\n",
      "[131]\ttrain-logloss:0.382596\teval-logloss:0.387554\n",
      "[132]\ttrain-logloss:0.382576\teval-logloss:0.387546\n",
      "[133]\ttrain-logloss:0.382539\teval-logloss:0.387521\n",
      "[134]\ttrain-logloss:0.382512\teval-logloss:0.387506\n",
      "[135]\ttrain-logloss:0.382474\teval-logloss:0.387481\n",
      "[136]\ttrain-logloss:0.382444\teval-logloss:0.387461\n",
      "[137]\ttrain-logloss:0.382387\teval-logloss:0.387413\n",
      "[138]\ttrain-logloss:0.382363\teval-logloss:0.387399\n",
      "[139]\ttrain-logloss:0.382347\teval-logloss:0.387395\n",
      "[140]\ttrain-logloss:0.382325\teval-logloss:0.387380\n",
      "[141]\ttrain-logloss:0.382271\teval-logloss:0.387342\n",
      "[142]\ttrain-logloss:0.382242\teval-logloss:0.387325\n",
      "[143]\ttrain-logloss:0.382215\teval-logloss:0.387312\n",
      "[144]\ttrain-logloss:0.382190\teval-logloss:0.387304\n",
      "[145]\ttrain-logloss:0.382167\teval-logloss:0.387290\n",
      "[146]\ttrain-logloss:0.382147\teval-logloss:0.387285\n",
      "[147]\ttrain-logloss:0.382128\teval-logloss:0.387314\n",
      "[148]\ttrain-logloss:0.382097\teval-logloss:0.387296\n",
      "[149]\ttrain-logloss:0.382080\teval-logloss:0.387287\n",
      "[150]\ttrain-logloss:0.382063\teval-logloss:0.387399\n",
      "[151]\ttrain-logloss:0.382039\teval-logloss:0.387385\n",
      "[152]\ttrain-logloss:0.382010\teval-logloss:0.387365\n",
      "[153]\ttrain-logloss:0.381989\teval-logloss:0.387353\n",
      "[154]\ttrain-logloss:0.381968\teval-logloss:0.387339\n",
      "[155]\ttrain-logloss:0.381943\teval-logloss:0.387327\n",
      "[156]\ttrain-logloss:0.381922\teval-logloss:0.387314\n",
      "[157]\ttrain-logloss:0.381880\teval-logloss:0.387285\n",
      "[158]\ttrain-logloss:0.381859\teval-logloss:0.387274\n",
      "[159]\ttrain-logloss:0.381842\teval-logloss:0.387268\n",
      "[160]\ttrain-logloss:0.381802\teval-logloss:0.387237\n",
      "[161]\ttrain-logloss:0.381753\teval-logloss:0.387201\n",
      "[162]\ttrain-logloss:0.381732\teval-logloss:0.387193\n"
     ]
    },
    {
     "name": "stderr",
     "output_type": "stream",
     "text": [
      "[163]\ttrain-logloss:0.381708\teval-logloss:0.387171\n",
      "[164]\ttrain-logloss:0.381688\teval-logloss:0.387172\n",
      "[165]\ttrain-logloss:0.381664\teval-logloss:0.387154\n",
      "[166]\ttrain-logloss:0.381648\teval-logloss:0.387148\n",
      "[167]\ttrain-logloss:0.381633\teval-logloss:0.387144\n",
      "[168]\ttrain-logloss:0.381617\teval-logloss:0.387136\n",
      "[169]\ttrain-logloss:0.381605\teval-logloss:0.387131\n",
      "[170]\ttrain-logloss:0.381575\teval-logloss:0.387113\n",
      "[171]\ttrain-logloss:0.381546\teval-logloss:0.387096\n",
      "[172]\ttrain-logloss:0.381531\teval-logloss:0.387084\n",
      "[173]\ttrain-logloss:0.381511\teval-logloss:0.387075\n",
      "[174]\ttrain-logloss:0.381474\teval-logloss:0.387043\n",
      "[175]\ttrain-logloss:0.381452\teval-logloss:0.387033\n",
      "[176]\ttrain-logloss:0.381431\teval-logloss:0.387022\n",
      "[177]\ttrain-logloss:0.381389\teval-logloss:0.387015\n",
      "[178]\ttrain-logloss:0.381368\teval-logloss:0.387003\n",
      "[179]\ttrain-logloss:0.381352\teval-logloss:0.386998\n",
      "[180]\ttrain-logloss:0.381334\teval-logloss:0.386990\n",
      "[181]\ttrain-logloss:0.381316\teval-logloss:0.386981\n",
      "[182]\ttrain-logloss:0.381287\teval-logloss:0.386965\n",
      "[183]\ttrain-logloss:0.381255\teval-logloss:0.386944\n",
      "[184]\ttrain-logloss:0.381238\teval-logloss:0.386925\n",
      "[185]\ttrain-logloss:0.381226\teval-logloss:0.386925\n",
      "[186]\ttrain-logloss:0.381211\teval-logloss:0.386917\n",
      "[187]\ttrain-logloss:0.381183\teval-logloss:0.386897\n",
      "[188]\ttrain-logloss:0.381169\teval-logloss:0.386894\n",
      "[189]\ttrain-logloss:0.381150\teval-logloss:0.386888\n",
      "[190]\ttrain-logloss:0.381138\teval-logloss:0.386882\n",
      "[191]\ttrain-logloss:0.381120\teval-logloss:0.386874\n",
      "[192]\ttrain-logloss:0.381103\teval-logloss:0.386865\n",
      "[193]\ttrain-logloss:0.381078\teval-logloss:0.386863\n",
      "[194]\ttrain-logloss:0.381065\teval-logloss:0.386861\n",
      "[195]\ttrain-logloss:0.381044\teval-logloss:0.386851\n",
      "[196]\ttrain-logloss:0.381013\teval-logloss:0.386829\n",
      "[197]\ttrain-logloss:0.381001\teval-logloss:0.386822\n",
      "[198]\ttrain-logloss:0.380987\teval-logloss:0.386816\n",
      "[199]\ttrain-logloss:0.380970\teval-logloss:0.386807\n",
      "[200]\ttrain-logloss:0.380958\teval-logloss:0.386802\n",
      "[201]\ttrain-logloss:0.380944\teval-logloss:0.386794\n",
      "[202]\ttrain-logloss:0.380915\teval-logloss:0.386769\n",
      "[203]\ttrain-logloss:0.380899\teval-logloss:0.386760\n",
      "[204]\ttrain-logloss:0.380884\teval-logloss:0.386753\n",
      "[205]\ttrain-logloss:0.380869\teval-logloss:0.386749\n",
      "[206]\ttrain-logloss:0.380851\teval-logloss:0.386739\n",
      "[207]\ttrain-logloss:0.380826\teval-logloss:0.386724\n",
      "[208]\ttrain-logloss:0.380797\teval-logloss:0.386710\n",
      "[209]\ttrain-logloss:0.380784\teval-logloss:0.386718\n",
      "[210]\ttrain-logloss:0.380762\teval-logloss:0.386707\n",
      "[211]\ttrain-logloss:0.380751\teval-logloss:0.386705\n",
      "[212]\ttrain-logloss:0.380739\teval-logloss:0.386701\n",
      "[213]\ttrain-logloss:0.380717\teval-logloss:0.386693\n",
      "[214]\ttrain-logloss:0.380701\teval-logloss:0.386837\n",
      "[215]\ttrain-logloss:0.380691\teval-logloss:0.386828\n",
      "[216]\ttrain-logloss:0.380681\teval-logloss:0.386829\n",
      "[217]\ttrain-logloss:0.380669\teval-logloss:0.386828\n",
      "[218]\ttrain-logloss:0.380653\teval-logloss:0.386819\n",
      "[219]\ttrain-logloss:0.380631\teval-logloss:0.386808\n",
      "[220]\ttrain-logloss:0.380617\teval-logloss:0.386803\n",
      "[221]\ttrain-logloss:0.380602\teval-logloss:0.386798\n",
      "[222]\ttrain-logloss:0.380590\teval-logloss:0.386791\n",
      "[223]\ttrain-logloss:0.380580\teval-logloss:0.386783\n",
      "[224]\ttrain-logloss:0.380565\teval-logloss:0.386780\n",
      "[225]\ttrain-logloss:0.380538\teval-logloss:0.386766\n",
      "[226]\ttrain-logloss:0.380524\teval-logloss:0.386761\n",
      "[227]\ttrain-logloss:0.380506\teval-logloss:0.386750\n",
      "[228]\ttrain-logloss:0.380485\teval-logloss:0.386738\n",
      "[229]\ttrain-logloss:0.380466\teval-logloss:0.386730\n",
      "[230]\ttrain-logloss:0.380452\teval-logloss:0.386723\n",
      "[231]\ttrain-logloss:0.380438\teval-logloss:0.386713\n",
      "[232]\ttrain-logloss:0.380424\teval-logloss:0.386711\n",
      "[233]\ttrain-logloss:0.380408\teval-logloss:0.386708\n",
      "[234]\ttrain-logloss:0.380398\teval-logloss:0.386703\n",
      "[235]\ttrain-logloss:0.380381\teval-logloss:0.386697\n",
      "[236]\ttrain-logloss:0.380369\teval-logloss:0.386692\n",
      "[237]\ttrain-logloss:0.380354\teval-logloss:0.386685\n",
      "[238]\ttrain-logloss:0.380338\teval-logloss:0.386680\n",
      "[239]\ttrain-logloss:0.380321\teval-logloss:0.386670\n",
      "[240]\ttrain-logloss:0.380303\teval-logloss:0.386665\n",
      "[241]\ttrain-logloss:0.380283\teval-logloss:0.386653\n",
      "[242]\ttrain-logloss:0.380263\teval-logloss:0.386641\n",
      "[243]\ttrain-logloss:0.380253\teval-logloss:0.386638\n",
      "[244]\ttrain-logloss:0.380241\teval-logloss:0.386628\n",
      "[245]\ttrain-logloss:0.380226\teval-logloss:0.386625\n",
      "[246]\ttrain-logloss:0.380211\teval-logloss:0.386621\n",
      "[247]\ttrain-logloss:0.380194\teval-logloss:0.386617\n",
      "[248]\ttrain-logloss:0.380178\teval-logloss:0.386612\n",
      "[249]\ttrain-logloss:0.380168\teval-logloss:0.386612\n",
      "[250]\ttrain-logloss:0.380159\teval-logloss:0.386611\n",
      "[251]\ttrain-logloss:0.380146\teval-logloss:0.386600\n",
      "[252]\ttrain-logloss:0.380138\teval-logloss:0.386599\n",
      "[253]\ttrain-logloss:0.380126\teval-logloss:0.386597\n",
      "[254]\ttrain-logloss:0.380115\teval-logloss:0.386592\n",
      "[255]\ttrain-logloss:0.380104\teval-logloss:0.386590\n",
      "[256]\ttrain-logloss:0.380091\teval-logloss:0.386592\n",
      "[257]\ttrain-logloss:0.380077\teval-logloss:0.386590\n",
      "[258]\ttrain-logloss:0.380069\teval-logloss:0.386682\n",
      "[259]\ttrain-logloss:0.380059\teval-logloss:0.386679\n",
      "[260]\ttrain-logloss:0.380049\teval-logloss:0.386673\n",
      "[261]\ttrain-logloss:0.380036\teval-logloss:0.386669\n",
      "[262]\ttrain-logloss:0.380023\teval-logloss:0.386666\n",
      "[263]\ttrain-logloss:0.380007\teval-logloss:0.386662\n",
      "[264]\ttrain-logloss:0.379993\teval-logloss:0.386657\n",
      "[265]\ttrain-logloss:0.379979\teval-logloss:0.386647\n",
      "[266]\ttrain-logloss:0.379964\teval-logloss:0.386644\n",
      "[267]\ttrain-logloss:0.379950\teval-logloss:0.386638\n",
      "[268]\ttrain-logloss:0.379937\teval-logloss:0.386637\n",
      "[269]\ttrain-logloss:0.379928\teval-logloss:0.386637\n",
      "[270]\ttrain-logloss:0.379916\teval-logloss:0.386753\n",
      "[271]\ttrain-logloss:0.379911\teval-logloss:0.386752\n",
      "[272]\ttrain-logloss:0.379900\teval-logloss:0.386748\n",
      "[273]\ttrain-logloss:0.379890\teval-logloss:0.386746\n",
      "[274]\ttrain-logloss:0.379878\teval-logloss:0.386745\n",
      "[275]\ttrain-logloss:0.379865\teval-logloss:0.386740\n",
      "[276]\ttrain-logloss:0.379849\teval-logloss:0.386735\n",
      "[277]\ttrain-logloss:0.379838\teval-logloss:0.386733\n",
      "[278]\ttrain-logloss:0.379824\teval-logloss:0.386727\n",
      "[279]\ttrain-logloss:0.379806\teval-logloss:0.386715\n",
      "[280]\ttrain-logloss:0.379793\teval-logloss:0.386711\n",
      "[281]\ttrain-logloss:0.379778\teval-logloss:0.386707\n",
      "[282]\ttrain-logloss:0.379769\teval-logloss:0.386704\n",
      "[283]\ttrain-logloss:0.379756\teval-logloss:0.386698\n",
      "[284]\ttrain-logloss:0.379742\teval-logloss:0.386694\n",
      "[285]\ttrain-logloss:0.379736\teval-logloss:0.386692\n",
      "[286]\ttrain-logloss:0.379727\teval-logloss:0.386693\n",
      "[287]\ttrain-logloss:0.379715\teval-logloss:0.386690\n",
      "[288]\ttrain-logloss:0.379708\teval-logloss:0.386686\n",
      "[289]\ttrain-logloss:0.379696\teval-logloss:0.386677\n",
      "[290]\ttrain-logloss:0.379691\teval-logloss:0.386677\n",
      "[291]\ttrain-logloss:0.379679\teval-logloss:0.386673\n",
      "[292]\ttrain-logloss:0.379668\teval-logloss:0.386674\n",
      "[293]\ttrain-logloss:0.379654\teval-logloss:0.386671\n",
      "[294]\ttrain-logloss:0.379634\teval-logloss:0.386663\n",
      "[295]\ttrain-logloss:0.379622\teval-logloss:0.386661\n",
      "[296]\ttrain-logloss:0.379609\teval-logloss:0.386659\n",
      "[297]\ttrain-logloss:0.379592\teval-logloss:0.386652\n",
      "[298]\ttrain-logloss:0.379585\teval-logloss:0.386654\n"
     ]
    },
    {
     "name": "stdout",
     "output_type": "stream",
     "text": [
      "[('user_id_ad_id_use', 13), ('user_id_ad_id_count', 32), ('app_id_use_maen', 47), ('user_ad_idratio', 57), ('advertiser_id_use_maen', 57), ('user_id_app_id_use', 67), ('app_id_click_maen', 69), ('advertiser_id_click_maen', 81), ('compaign_id_use_maen', 98), ('compaign_id_click_maen', 108), ('app_id_use', 131), ('ad_id_use_maen', 148), ('gender', 150), ('app_category1', 154), ('advertiser_id_use', 155), ('app_id_click', 158), ('user_id_app_id_count', 176), ('compaign_id_use', 188), ('position_id', 189), ('education', 207), ('ad_id_click_maen', 214), ('user_usage_app_count_mean', 216), ('advertiser_id_click', 222), ('user_usage_app_count', 252), ('sum_t', 260), ('ad_id_use', 271), ('app_category2', 281), ('advertiser_id', 306), ('compaign_id_click', 307), ('advertiser_id_ratio', 316), ('user_app_idratio', 316), ('app_id', 320), ('connection_type', 323), ('user_usage_app_time_mean', 326), ('compaign_id', 330), ('user_install_app_pre', 365), ('app_id_ratio', 369), ('compaign_id_ratio', 372), ('ad_id', 395), ('user_usage_app_time', 401), ('ad_id_click', 413), ('age', 507), ('provice', 704), ('city', 863), ('ad_id_ratio', 880), ('user_id', 1007), ('IP', 1035), ('MIUI_version', 1104), ('android_version', 1364), ('device_info', 1564)]\n"
     ]
    },
    {
     "name": "stderr",
     "output_type": "stream",
     "text": [
      "[299]\ttrain-logloss:0.379579\teval-logloss:0.386655\n"
     ]
    }
   ],
   "source": [
    "traindata = traindata.fillna(-1)\n",
    "testdata = testdata.fillna(-1)\n",
    "traindata = traindata.replace({np.inf: -1})\n",
    "testdata = testdata.replace({np.inf: -1})\n",
    "\n",
    "predictors = [\n",
    "       'ad_id', 'user_id',\n",
    "       'position_id', 'connection_type', 'MIUI_version', 'IP',\n",
    "       'android_version', 'advertiser_id', 'compaign_id', 'app_id', 'age',\n",
    "       'gender', 'education', 'provice', 'city', 'device_info',\n",
    "       'app_category1', 'app_category2', 'ad_id_click', 'ad_id_use',\n",
    "       'ad_id_click_maen', 'ad_id_use_maen', 'ad_id_ratio',\n",
    "       'compaign_id_click', 'compaign_id_use', 'compaign_id_click_maen',\n",
    "       'compaign_id_use_maen', 'compaign_id_ratio', 'advertiser_id_click',\n",
    "       'advertiser_id_use', 'advertiser_id_click_maen',\n",
    "       'advertiser_id_use_maen', 'advertiser_id_ratio', 'app_id_click',\n",
    "       'app_id_use', 'app_id_click_maen', 'app_id_use_maen',\n",
    "       'app_id_ratio', 'user_install_app_pre', 'user_usage_app_count',\n",
    "       'user_usage_app_time', 'user_usage_app_count_mean',\n",
    "       'user_usage_app_time_mean', 'user_id_app_id_count',\n",
    "       'user_id_app_id_use', 'user_app_idratio', 'user_id_ad_id_count',\n",
    "       'user_id_ad_id_use', 'user_ad_idratio', 'sum_t'\n",
    "    #'action0', 'action1', 'action2'\n",
    "    #'down_cat', 'install_cat', 'uninstall_cat'\n",
    "]\n",
    "\n",
    "print(len(predictors))\n",
    "print(len(traindata), len(testdata))\n",
    "\n",
    "train1 = xgb.DMatrix(traindata[predictors], label=traindata['label'])\n",
    "test1 = xgb.DMatrix(testdata[predictors], label=testdata['label'])\n",
    "\n",
    "# params = {\n",
    "#     'objective': 'binary:logistic',\n",
    "#     'eta': 0.05,\n",
    "#     'colsample_bytree': 0.886,\n",
    "#     'min_child_weight': 2,\n",
    "#     'max_depth': 10,\n",
    "#     'subsample': 0.886,\n",
    "#     'alpha': 10,\n",
    "#     'gamma': 30,\n",
    "#     'lambda':50,\n",
    "#     'verbose_eval': True,\n",
    "#    # 'nthread': 8,\n",
    "#     'eval_metric': 'logloss',\n",
    "#     'scale_pos_weight': 10,\n",
    "#     'seed': 201703,\n",
    "#     'missing':-1\n",
    "# }\n",
    "\n",
    "param = {\n",
    "    'objective': 'binary:logistic',\n",
    "    'eta': 0.05,\n",
    "    'colsample_bytree': 0.8,\n",
    "    'subsample': 0.8,\n",
    "    'silent': 1,\n",
    "    'verbose_eval': True,\n",
    "    'eval_metric': 'logloss',\n",
    "    'seed': 201703,\n",
    "    'missing': -1\n",
    "}\n",
    "\n",
    "num_round = 300\n",
    "plst = list(param.items())\n",
    "evallist = [(train1, 'train'), (test1, 'eval')]\n",
    "\n",
    "bst = xgb.train(plst, train1, num_round, evallist)\n",
    "\n",
    "importance = bst.get_fscore()\n",
    "importance = sorted(importance.items(), key=operator.itemgetter(1))\n",
    "print(importance)\n",
    "y = bst.predict(test1)\n",
    "testdata['pred'] = y"
   ]
  },
  {
   "cell_type": "code",
   "execution_count": null,
   "metadata": {
    "collapsed": true
   },
   "outputs": [],
   "source": []
  }
 ],
 "metadata": {
  "kernelspec": {
   "display_name": "Python 2",
   "language": "python",
   "name": "python2"
  },
  "language_info": {
   "codemirror_mode": {
    "name": "ipython",
    "version": 2
   },
   "file_extension": ".py",
   "mimetype": "text/x-python",
   "name": "python",
   "nbconvert_exporter": "python",
   "pygments_lexer": "ipython2",
   "version": "2.7.5"
  }
 },
 "nbformat": 4,
 "nbformat_minor": 2
}
